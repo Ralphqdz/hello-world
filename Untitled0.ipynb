{
  "nbformat": 4,
  "nbformat_minor": 0,
  "metadata": {
    "colab": {
      "provenance": [],
      "authorship_tag": "ABX9TyN7zRcNsLWFF0QsgGNOVr1a",
      "include_colab_link": true
    },
    "kernelspec": {
      "name": "python3",
      "display_name": "Python 3"
    },
    "language_info": {
      "name": "python"
    }
  },
  "cells": [
    {
      "cell_type": "markdown",
      "metadata": {
        "id": "view-in-github",
        "colab_type": "text"
      },
      "source": [
        "<a href=\"https://colab.research.google.com/github/Ralphqdz/hello-world/blob/main/Untitled0.ipynb\" target=\"_parent\"><img src=\"https://colab.research.google.com/assets/colab-badge.svg\" alt=\"Open In Colab\"/></a>"
      ]
    },
    {
      "cell_type": "code",
      "execution_count": null,
      "metadata": {
        "id": "G7M3ao-N6etK"
      },
      "outputs": [],
      "source": []
    },
    {
      "cell_type": "markdown",
      "source": [
        "#Presentación y Artículo\n",
        "## Alejandro Quezada\n",
        "\n",
        "##Presentación\n",
        "\n",
        "Hola, me presento. Mi nombre es Alejandro Quezada, soy un estudiante de *Ingeniería Civil* y voy en 6to semestre.\n",
        "Mis pasatiempos son:\n",
        "1. **Deportes de raqueta.**\n",
        "2. **Voleibol**\n",
        "3. **las redes sociales**\n",
        "\n",
        "Actualmente, trabajo de CM (Community Manager) y de Profesor de Pádel. Eh ganado competencias nacionales de Pádel y podría considerarme como \"profesional\" aunque actualmente no estoy compitiendo.\n",
        "\n",
        "#Resumen Articulo\n",
        "\n",
        "### Influencia del deporte y la actividad física en el estado de salud físico y mental\n",
        "[link](https://dialnet.unirioja.es/servlet/articulo?codigo=6369972)\n",
        "\n",
        "####Resumen: La Relación entre Actividad Física, Deporte y Salud Integral\n",
        "\n",
        "La *actividad física* y el deporte desempeñan un papel crucial en la promoción de la salud física y mental, pero la inactividad física está relacionada con diversas enfermedades. La falta de recursos en países en desarrollo destaca la necesidad de abordar la prevención de enfermedades cardiovasculares y otras patologías crónicas. La obesidad, vinculada a la disminución de la actividad física, se asocia con enfermedades crónicas desde la infancia hasta la edad adulta.\n",
        "\n",
        "Estudios como el de Hu et al. (2004) muestran que la adiposidad aumenta el riesgo de muerte, aunque la actividad física puede mitigar sus efectos. El ejercicio regular también se asocia con beneficios en la densidad ósea, reducción de la pérdida ósea y mejora de la función física en personas mayores, incluso en casos de demencia.\n",
        "\n",
        "Importante resaltar como *La práctica regular de actividad física se asocia con mejoras en la autoconfianza, bienestar emocional y funcionamiento cognitivo, además de reducir los niveles de ansiedad, depresión y estrés* (Fox, 1999; Márquez y Garatachea, 2013).\n",
        "\n",
        "![image](https://cdn.britannica.com/57/183257-050-0BA11B4B/Roger-Federer-2012.jpg)\n",
        "\n",
        "\"*La actividad física ha demostrado ser una estrategia eficaz para detener el inicio y progresión de patologías a través de efectos tales como la adiposidad, la sensibilidad a la insulina, el control glucémico y la presión arterial*\" (Bassuk y Manson, 2010).\n",
        "####Aspectos Importantes\n",
        "\n",
        "1. *\"La inactividad física contribuye a enfermedades cardiovasculares, metabólicas y cáncer*\" (Kohl et al., 2012; Pérez, 2014).\n",
        "\n",
        "2. ¨*La actividad física mejora la salud mental, aumentando la autoconfianza y reduciendo ansiedad, depresión y estrés*\" (Fox, 1999; Márquez y Garatachea, 2013).\n",
        "\n",
        "3. \"*La actividad física puede ser terapéutica en trastornos de salud mental como el estrés, la ansiedad y la depresión*\" (Goodwin, 2003; Ramírez et al., 2004).\n",
        "\n",
        "\n",
        "\n"
      ],
      "metadata": {
        "id": "o1qmhUjy6qHK"
      }
    }
  ]
}